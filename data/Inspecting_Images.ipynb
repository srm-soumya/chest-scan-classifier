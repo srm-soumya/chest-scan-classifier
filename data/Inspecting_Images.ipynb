{
 "cells": [
  {
   "cell_type": "code",
   "execution_count": 7,
   "metadata": {},
   "outputs": [],
   "source": [
    "from PIL import Image\n",
    "from keras.preprocessing.image import array_to_img, img_to_array"
   ]
  },
  {
   "cell_type": "code",
   "execution_count": 8,
   "metadata": {},
   "outputs": [
    {
     "name": "stdout",
     "output_type": "stream",
     "text": [
      "00006614_002.png\r\n",
      "00006626_004.png\r\n",
      "00006653_009.png\r\n",
      "00006668_000.png\r\n",
      "00006670_009.png\r\n"
     ]
    }
   ],
   "source": [
    "!ls sample/ | head -5"
   ]
  },
  {
   "cell_type": "code",
   "execution_count": 9,
   "metadata": {
    "collapsed": true
   },
   "outputs": [],
   "source": [
    "img = Image.open('sample/00006614_002.png')"
   ]
  },
  {
   "cell_type": "code",
   "execution_count": 10,
   "metadata": {
    "collapsed": true
   },
   "outputs": [],
   "source": [
    "img = img.resize((224, 224), Image.ANTIALIAS)\n",
    "img.show()"
   ]
  },
  {
   "cell_type": "code",
   "execution_count": 11,
   "metadata": {
    "collapsed": true
   },
   "outputs": [],
   "source": [
    "import cv2\n",
    "\n",
    "img2arr = img_to_array(img)\n",
    "img2rgb = cv2.cvtColor(img2arr,cv2.COLOR_GRAY2RGB)\n",
    "arr2img = array_to_img(img2rgb)\n",
    "\n",
    "arr2img.show()"
   ]
  },
  {
   "cell_type": "code",
   "execution_count": 5,
   "metadata": {
    "collapsed": true
   },
   "outputs": [],
   "source": [
    "import os\n",
    "\n",
    "def image_reshape(image, size=(224, 224)):\n",
    "    img = Image.open(os.path.join('sample', image))\n",
    "    img = img.resize(size, Image.ANTIALIAS)\n",
    "    img2arr = img_to_array(img)\n",
    "    try:\n",
    "        img2rgb = cv2.cvtColor(img2arr,cv2.COLOR_GRAY2RGB)\n",
    "        arr2img = array_to_img(img2rgb)\n",
    "        arr2img.save(os.path.join('sample', image), 'PNG')\n",
    "        print('Going to try')\n",
    "    except:\n",
    "        print('Going to except')\n",
    "#         os.remove(os.path.join('sample', image))\n",
    "\n",
    "for image in os.listdir('sample'):\n",
    "    image_reshape(image)"
   ]
  },
  {
   "cell_type": "code",
   "execution_count": 6,
   "metadata": {},
   "outputs": [
    {
     "name": "stdout",
     "output_type": "stream",
     "text": [
      "0\r\n"
     ]
    }
   ],
   "source": [
    "!ls sample/ | wc -l"
   ]
  },
  {
   "cell_type": "code",
   "execution_count": 4,
   "metadata": {},
   "outputs": [
    {
     "name": "stdout",
     "output_type": "stream",
     "text": [
      "(299, 299, 3)\n",
      "(299, 299, 3)\n",
      "(299, 299, 3)\n",
      "(299, 299, 3)\n",
      "(299, 299, 3)\n",
      "(299, 299, 3)\n",
      "(299, 299, 3)\n",
      "(299, 299, 3)\n",
      "(299, 299, 3)\n",
      "(299, 299, 3)\n",
      "(299, 299, 3)\n",
      "(299, 299, 3)\n",
      "(299, 299, 3)\n",
      "(299, 299, 3)\n",
      "(299, 299, 3)\n",
      "(299, 299, 3)\n",
      "(299, 299, 3)\n",
      "(299, 299, 3)\n",
      "(299, 299, 3)\n",
      "(299, 299, 3)\n",
      "(299, 299, 3)\n",
      "(299, 299, 3)\n",
      "(299, 299, 3)\n",
      "(299, 299, 3)\n",
      "(299, 299, 3)\n",
      "(299, 299, 3)\n",
      "(299, 299, 3)\n",
      "(299, 299, 3)\n",
      "(299, 299, 3)\n",
      "(299, 299, 3)\n",
      "(299, 299, 3)\n",
      "(299, 299, 3)\n",
      "(299, 299, 3)\n",
      "(299, 299, 3)\n",
      "(299, 299, 3)\n",
      "(299, 299, 3)\n",
      "(299, 299, 3)\n",
      "(299, 299, 3)\n",
      "(299, 299, 3)\n",
      "(299, 299, 3)\n",
      "(299, 299, 3)\n",
      "(299, 299, 3)\n",
      "(299, 299, 3)\n",
      "(299, 299, 3)\n",
      "(299, 299, 3)\n",
      "(299, 299, 3)\n",
      "(299, 299, 3)\n",
      "(299, 299, 3)\n",
      "(299, 299, 3)\n",
      "(299, 299, 3)\n",
      "(299, 299, 3)\n",
      "(299, 299, 3)\n",
      "(299, 299, 3)\n",
      "(299, 299, 3)\n",
      "(299, 299, 3)\n",
      "(299, 299, 3)\n",
      "(299, 299, 3)\n",
      "(299, 299, 3)\n",
      "(299, 299, 3)\n",
      "(299, 299, 3)\n",
      "(299, 299, 3)\n",
      "(299, 299, 3)\n",
      "(299, 299, 3)\n",
      "(299, 299, 3)\n",
      "(299, 299, 3)\n",
      "(299, 299, 3)\n",
      "(299, 299, 3)\n",
      "(299, 299, 3)\n",
      "(299, 299, 3)\n",
      "(299, 299, 3)\n",
      "(299, 299, 3)\n",
      "(299, 299, 3)\n",
      "(299, 299, 3)\n",
      "(299, 299, 3)\n",
      "(299, 299, 3)\n"
     ]
    }
   ],
   "source": [
    "import os\n",
    "\n",
    "for dir, path, files in os.walk('sample/'):\n",
    "    for file in files:\n",
    "        img = Image.open(os.path.join('sample', file))\n",
    "        img = img.resize((299, 299), Image.ANTIALIAS)\n",
    "        img2arr = img_to_array(img)\n",
    "        print(img2arr.shape)"
   ]
  },
  {
   "cell_type": "code",
   "execution_count": null,
   "metadata": {
    "collapsed": true
   },
   "outputs": [],
   "source": []
  }
 ],
 "metadata": {
  "kernelspec": {
   "display_name": "Python 3",
   "language": "python",
   "name": "python3"
  },
  "language_info": {
   "codemirror_mode": {
    "name": "ipython",
    "version": 3
   },
   "file_extension": ".py",
   "mimetype": "text/x-python",
   "name": "python",
   "nbconvert_exporter": "python",
   "pygments_lexer": "ipython3",
   "version": "3.6.1"
  }
 },
 "nbformat": 4,
 "nbformat_minor": 2
}
